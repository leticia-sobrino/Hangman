{
 "cells": [
  {
   "cell_type": "code",
   "execution_count": 1,
   "metadata": {},
   "outputs": [],
   "source": [
    "import random          # Para obtener una palabra aleatoria de la lista que le voy a proporcionar y la que el usuario tiene que adivinar\n",
    "import os              # Para limpiar la pantalla"
   ]
  },
  {
   "cell_type": "code",
   "execution_count": 2,
   "metadata": {},
   "outputs": [],
   "source": [
    "names = [\"RAS\", \"ANA\", \"ADRIANA\", \"LAZARO\", \"DELGADO\", \"FELIPE\", \"FER\", \"IGANACIO\", \"JMANUEL\", \"CALCEDO\", \"JAVIER\", \"JESUS\", \"JOSEGOMEZ\", \"JUANB\", \"JUANM\", \"JUANPE\", \"VAZQUEZ\", \"LUCIANA\", \"MARIANA\", \"MARIO\", \"MARTA\", \"NURIA\", \"PATRICIA\", \"TREVIÑO\", \"RAFA\", \"SANTIAGO\", \"SERGIO\", \"SERGIOGON\", \"SHERIFF\", \"SONIA\", \"LETI\"]"
   ]
  },
  {
   "cell_type": "code",
   "execution_count": 3,
   "metadata": {},
   "outputs": [],
   "source": [
    "# En la variable nombre mediante la funcion choice de random\n",
    "# el ordenador va a elegir un nombre de la lista de nombres que vamos a tener que adivinar\n",
    "\n",
    "name = random.choice(names)"
   ]
  },
  {
   "cell_type": "code",
   "execution_count": 4,
   "metadata": {},
   "outputs": [],
   "source": [
    "fallo_0 = '''\n",
    "           _ _\n",
    "          |   \n",
    "          |  \n",
    "          | \n",
    "        __|__\n",
    "'''"
   ]
  },
  {
   "cell_type": "code",
   "execution_count": 5,
   "metadata": {},
   "outputs": [],
   "source": [
    "fallo_1 = '''\n",
    "           _ _\n",
    "          |   o\n",
    "          |  \n",
    "          |  \n",
    "        __|__\n",
    "'''"
   ]
  },
  {
   "cell_type": "code",
   "execution_count": 6,
   "metadata": {},
   "outputs": [],
   "source": [
    "fallo_2 = '''\n",
    "           _ _\n",
    "          |   o\n",
    "          |   |\n",
    "          |   \n",
    "        __|__\n",
    "'''"
   ]
  },
  {
   "cell_type": "code",
   "execution_count": 7,
   "metadata": {},
   "outputs": [],
   "source": [
    "fallo_3 = '''\n",
    "           _ _\n",
    "          |   o\n",
    "          |  /|\n",
    "          |  \n",
    "        __|__\n",
    "'''"
   ]
  },
  {
   "cell_type": "code",
   "execution_count": 8,
   "metadata": {},
   "outputs": [],
   "source": [
    "fallo_4 = '''\n",
    "           _ _\n",
    "          |   o\n",
    "          |  /|\\\n",
    "          |   \n",
    "        __|__\n",
    "'''"
   ]
  },
  {
   "cell_type": "code",
   "execution_count": 9,
   "metadata": {},
   "outputs": [],
   "source": [
    "fallo_5 = '''\n",
    "           _ _\n",
    "          |   o\n",
    "          |  /|\\\n",
    "          |  / \n",
    "        __|__\n",
    "'''"
   ]
  },
  {
   "cell_type": "code",
   "execution_count": 10,
   "metadata": {},
   "outputs": [],
   "source": [
    "fallo_6 = '''\n",
    "           _ _\n",
    "          |   o\n",
    "          |  /|\\\n",
    "          |  / \\\n",
    "        __|__\n",
    "'''"
   ]
  },
  {
   "cell_type": "code",
   "execution_count": 11,
   "metadata": {},
   "outputs": [],
   "source": [
    "correct_letters = \"\"   # Las letras que acierte el usuario\n",
    "all_letters = []       # Todas las letras que vaya diciendo el jugador (tanto las correctas como incorrectas)\n",
    "                       # para que a la hora de elegir una letra si esa letra ya se ha dicho, indicarselo al usuario\n",
    "fallos = 0             # contador de fallos, para ir mostrando el dibujo correspondiente\n"
   ]
  },
  {
   "cell_type": "code",
   "execution_count": 13,
   "metadata": {},
   "outputs": [
    {
     "name": "stdout",
     "output_type": "stream",
     "text": [
      "Adivina adivinanza\n",
      "\n",
      "           _ _\n",
      "          |   \n",
      "          |  \n",
      "          | \n",
      "        __|__\n",
      "\n",
      "respuesta correcta\n"
     ]
    },
    {
     "ename": "KeyboardInterrupt",
     "evalue": "",
     "output_type": "error",
     "traceback": [
      "\u001b[1;31m---------------------------------------------------------------------------\u001b[0m",
      "\u001b[1;31mKeyboardInterrupt\u001b[0m                         Traceback (most recent call last)",
      "\u001b[1;32m<ipython-input-13-80f1200accf3>\u001b[0m in \u001b[0;36m<module>\u001b[1;34m\u001b[0m\n\u001b[0;32m     28\u001b[0m                 \u001b[0mresult\u001b[0m \u001b[1;33m+=\u001b[0m \u001b[0mletter\u001b[0m\u001b[1;33m\u001b[0m\u001b[1;33m\u001b[0m\u001b[0m\n\u001b[0;32m     29\u001b[0m             \u001b[1;32melse\u001b[0m\u001b[1;33m:\u001b[0m\u001b[1;33m\u001b[0m\u001b[1;33m\u001b[0m\u001b[0m\n\u001b[1;32m---> 30\u001b[1;33m                 \u001b[0mresult\u001b[0m \u001b[1;33m+=\u001b[0m \u001b[1;34m\" _ \"\u001b[0m\u001b[1;33m\u001b[0m\u001b[1;33m\u001b[0m\u001b[0m\n\u001b[0m\u001b[0;32m     31\u001b[0m \u001b[1;33m\u001b[0m\u001b[0m\n\u001b[0;32m     32\u001b[0m     \u001b[0mprint\u001b[0m\u001b[1;33m(\u001b[0m\u001b[1;34m\"        {}\"\u001b[0m\u001b[1;33m.\u001b[0m\u001b[0mformat\u001b[0m\u001b[1;33m(\u001b[0m\u001b[0mresult\u001b[0m\u001b[1;33m)\u001b[0m\u001b[1;33m)\u001b[0m\u001b[1;33m\u001b[0m\u001b[1;33m\u001b[0m\u001b[0m\n",
      "\u001b[1;31mKeyboardInterrupt\u001b[0m: "
     ]
    }
   ],
   "source": [
    "while True:\n",
    "    \n",
    "    os.system(\"cls\")\n",
    "    \n",
    "    print(\"Adivina adivinanza\")\n",
    "    \n",
    "    if fallos == 0:\n",
    "        print(fallo_0)\n",
    "    elif fallos == 1:\n",
    "        print(fallo_1)\n",
    "    elif fallos == 2:\n",
    "        print(fall0_2)\n",
    "    elif fallos == 3:\n",
    "        print(fallo_3)\n",
    "    elif fallos == 4:\n",
    "        print(fallo_4)\n",
    "    elif fallos == 5:\n",
    "        print(fallo_5)\n",
    "    else:\n",
    "        print(fallo_6)\n",
    "    \n",
    "    print(\"respuesta correcta\")\n",
    "    \n",
    "    result = \"\"\n",
    "    while True:\n",
    "        for letter in names:\n",
    "            if letter in correct_letters:\n",
    "                result += letter\n",
    "            else:\n",
    "                result += \" _ \"\n",
    "        \n",
    "    print(\"        {}\".format(result))\n",
    "\n",
    "    print()\n",
    "    print()\n",
    "    \n",
    "    \n",
    "    while True: \n",
    "        if result == name:\n",
    "            print(\"***   YOU WIN!! CONGRATS!  ***\")\n",
    "            break\n",
    "\n",
    "        if fallos > 5:\n",
    "            print(\"OOOH SORRY YOU LOST!! :( The name was: \", name)\n",
    "            break\n",
    "        \n",
    "        \n",
    "        \n",
    "    \n",
    "    while True:\n",
    "        letra_del_usuario_sin_formato = input(\"Dime una letra: \")\n",
    "        letra_usuario = letra_del_usuario_sin_formato.upper()         # pasar la letra que indica el usuario a mayusculas y poder compararlas con las palabras de nuestra lista (que estan en mayusculas)\n",
    "    \n",
    "        if len(letra_usuario) < 1 or len(letra_usuario) > 1:\n",
    "            print(\"Entoduce una letra: \")\n",
    "        elif letra_usuario in all_letters:\n",
    "            print(\"Esa letra ya la has dicho!\")\n",
    "        elif not letra_usuaio not in \"ABCDEFGHIJKLMNÑOPQRSTUVWXYZ\":\n",
    "            print(\"Introduce una letra: \")\n",
    "        else:\n",
    "            all_letters += letra_usuario\n",
    "            break\n",
    "            \n",
    "    if letra_usuario not in name:\n",
    "        fallos += 1\n",
    "    else:\n",
    "        correct_letters += letra_usuario\n",
    "        \n",
    "    "
   ]
  },
  {
   "cell_type": "code",
   "execution_count": 12,
   "metadata": {},
   "outputs": [
    {
     "ename": "KeyboardInterrupt",
     "evalue": "",
     "output_type": "error",
     "traceback": [
      "\u001b[1;31m---------------------------------------------------------------------------\u001b[0m",
      "\u001b[1;31mKeyboardInterrupt\u001b[0m                         Traceback (most recent call last)",
      "\u001b[1;32m<ipython-input-12-59c7c67d97e0>\u001b[0m in \u001b[0;36m<module>\u001b[1;34m\u001b[0m\n\u001b[0;32m      7\u001b[0m             \u001b[0mresult\u001b[0m \u001b[1;33m+=\u001b[0m \u001b[0mletter\u001b[0m\u001b[1;33m\u001b[0m\u001b[1;33m\u001b[0m\u001b[0m\n\u001b[0;32m      8\u001b[0m         \u001b[1;32melse\u001b[0m\u001b[1;33m:\u001b[0m\u001b[1;33m\u001b[0m\u001b[1;33m\u001b[0m\u001b[0m\n\u001b[1;32m----> 9\u001b[1;33m             \u001b[0mresult\u001b[0m \u001b[1;33m+=\u001b[0m \u001b[1;34m\" _ \"\u001b[0m\u001b[1;33m\u001b[0m\u001b[1;33m\u001b[0m\u001b[0m\n\u001b[0m\u001b[0;32m     10\u001b[0m \u001b[1;33m\u001b[0m\u001b[0m\n\u001b[0;32m     11\u001b[0m \u001b[0mprint\u001b[0m\u001b[1;33m(\u001b[0m\u001b[1;34m\"        {}\"\u001b[0m\u001b[1;33m.\u001b[0m\u001b[0mformat\u001b[0m\u001b[1;33m(\u001b[0m\u001b[0mresult\u001b[0m\u001b[1;33m)\u001b[0m\u001b[1;33m)\u001b[0m\u001b[1;33m\u001b[0m\u001b[1;33m\u001b[0m\u001b[0m\n",
      "\u001b[1;31mKeyboardInterrupt\u001b[0m: "
     ]
    }
   ],
   "source": [
    "# Letras acertadas o no (guion bajo)\n",
    "\n",
    "#result = \"\"\n",
    "#while True:\n",
    "#for letter in names:\n",
    "#        if letter in correct_letters:\n",
    "#            result += letter\n",
    "#        else:\n",
    "#            result += \" _ \"\n",
    "        \n",
    "#print(\"        {}\".format(result))\n",
    "\n",
    "#print()\n",
    "#print()\n"
   ]
  },
  {
   "cell_type": "code",
   "execution_count": null,
   "metadata": {},
   "outputs": [],
   "source": [
    "# Comprobamos si se ha acertado la palabra\n",
    "while True: \n",
    "    if result == name:\n",
    "        print(\"***   YOU WIN!! CONGRATS!  ***\")\n",
    "        break\n",
    "\n",
    "    if fallos > 5:\n",
    "        print(\"OOOH SORRY YOU LOST!! :( The name was: \", name)\n",
    "        break\n",
    "    "
   ]
  },
  {
   "cell_type": "code",
   "execution_count": null,
   "metadata": {},
   "outputs": [],
   "source": [
    "# Bucle para que el usuario teclee una letra que cumpla los requisitos\n",
    "\n",
    "while True:\n",
    "    letra_del_usuario_sin_formato = input(\"Dime una letra: \")\n",
    "    letra_usuario = letra_del_usuario_sin_formato.upper()         # pasar la letra que indica el usuario a mayusculas y poder compararlas con las palabras de nuestra lista (que estan en mayusculas)\n",
    "    \n",
    "    if len(letra_usuario) < 1 or len(letra_usuario) > 1:\n",
    "        print(\"Entoduce una letra: \")\n",
    "    elif letra_usuario in all_letters:\n",
    "        print(\"Esa letra ya la has dicho!\")\n",
    "    elif not letra_usuaio not in \"ABCDEFGHIJKLMNÑOPQRSTUVWXYZ\":\n",
    "        print(\"Introduce una letra: \")\n",
    "    else:\n",
    "        all_letters += letra_usuario\n",
    "        break\n",
    "        \n"
   ]
  },
  {
   "cell_type": "code",
   "execution_count": null,
   "metadata": {},
   "outputs": [],
   "source": [
    "if letra_usuario not in name:\n",
    "    fallos += 1\n",
    "else:\n",
    "    correct_letters += letra_usuario"
   ]
  },
  {
   "cell_type": "code",
   "execution_count": null,
   "metadata": {},
   "outputs": [],
   "source": []
  },
  {
   "cell_type": "code",
   "execution_count": null,
   "metadata": {},
   "outputs": [],
   "source": []
  },
  {
   "cell_type": "code",
   "execution_count": null,
   "metadata": {},
   "outputs": [],
   "source": []
  },
  {
   "cell_type": "code",
   "execution_count": null,
   "metadata": {},
   "outputs": [],
   "source": []
  }
 ],
 "metadata": {
  "kernelspec": {
   "display_name": "Python 3",
   "language": "python",
   "name": "python3"
  },
  "language_info": {
   "codemirror_mode": {
    "name": "ipython",
    "version": 3
   },
   "file_extension": ".py",
   "mimetype": "text/x-python",
   "name": "python",
   "nbconvert_exporter": "python",
   "pygments_lexer": "ipython3",
   "version": "3.8.3"
  }
 },
 "nbformat": 4,
 "nbformat_minor": 4
}
