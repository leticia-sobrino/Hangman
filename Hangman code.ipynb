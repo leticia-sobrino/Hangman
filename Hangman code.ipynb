{
 "cells": [
  {
   "cell_type": "code",
   "execution_count": 3,
   "metadata": {},
   "outputs": [],
   "source": [
    "import random          # Para obtener una palabra aleatoria de la lista que le voy a proporcionar y la que el usuario tiene que adivinar\n",
    "import os              # Para limpiar la pantalla"
   ]
  },
  {
   "cell_type": "code",
   "execution_count": 4,
   "metadata": {},
   "outputs": [],
   "source": [
    "names = [\"RAS\", \"ANA\", \"ADRIANA\", \"LAZARO\", \"DELGADO\", \"FELIPE\", \"FER\", \"IGANACIO\", \"JMANUEL\", \"CALCEDO\", \"JAVIER\", \"JESUS\", \"JOSEGOMEZ\", \"JUANB\", \"JUANM\", \"JUANPE\", \"VAZQUEZ\", \"LUCIANA\", \"MARIANA\", \"MARIO\", \"MARTA\", \"NURIA\", \"PATRICIA\", \"TREVIÑO\", \"RAFA\", \"SANTIAGO\", \"SERGIO\", \"SERGIOGON\", \"SHERIFF\", \"SONIA\", \"LETI\"]"
   ]
  },
  {
   "cell_type": "code",
   "execution_count": 5,
   "metadata": {},
   "outputs": [],
   "source": [
    "# En la variable nombre mediante la funcion choice de random\n",
    "# el ordenador va a elegir un nombre de la lista de nombres que vamos a tener que adivinar\n",
    "\n",
    "name = random.choice(names)"
   ]
  },
  {
   "cell_type": "code",
   "execution_count": 6,
   "metadata": {},
   "outputs": [],
   "source": [
    "fallo_0 = '''\n",
    "           _ _\n",
    "          |   \n",
    "          |  \n",
    "          | \n",
    "        __|__\n",
    "'''"
   ]
  },
  {
   "cell_type": "code",
   "execution_count": 7,
   "metadata": {},
   "outputs": [],
   "source": [
    "fallo_1 = '''\n",
    "           _ _\n",
    "          |   o\n",
    "          |  \n",
    "          |  \n",
    "        __|__\n",
    "'''"
   ]
  },
  {
   "cell_type": "code",
   "execution_count": 8,
   "metadata": {},
   "outputs": [],
   "source": [
    "fallo_2 = '''\n",
    "           _ _\n",
    "          |   o\n",
    "          |   |\n",
    "          |   \n",
    "        __|__\n",
    "'''"
   ]
  },
  {
   "cell_type": "code",
   "execution_count": 9,
   "metadata": {},
   "outputs": [],
   "source": [
    "fallo_3 = '''\n",
    "           _ _\n",
    "          |   o\n",
    "          |  /|\n",
    "          |  \n",
    "        __|__\n",
    "'''"
   ]
  },
  {
   "cell_type": "code",
   "execution_count": 10,
   "metadata": {},
   "outputs": [],
   "source": [
    "fallo_4 = '''\n",
    "           _ _\n",
    "          |   o\n",
    "          |  /|\\\n",
    "          |   \n",
    "        __|__\n",
    "'''"
   ]
  },
  {
   "cell_type": "code",
   "execution_count": 11,
   "metadata": {},
   "outputs": [],
   "source": [
    "fallo_5 = '''\n",
    "           _ _\n",
    "          |   o\n",
    "          |  /|\\\n",
    "          |  / \n",
    "        __|__\n",
    "'''"
   ]
  },
  {
   "cell_type": "code",
   "execution_count": 12,
   "metadata": {},
   "outputs": [],
   "source": [
    "fallo_6 = '''\n",
    "           _ _\n",
    "          |   o\n",
    "          |  /|\\\n",
    "          |  / \\\n",
    "        __|__\n",
    "'''"
   ]
  },
  {
   "cell_type": "code",
   "execution_count": 13,
   "metadata": {},
   "outputs": [],
   "source": [
    "correct_letters = \"\"   # Las letras que acierte el usuario\n",
    "all_letters = \"\"       # Todas las letras que vaya diciendo el jugador (tanto las correctas como incorrectas)\n",
    "                       # para que a la hora de elegir una letra si esa letra ya se ha dicho, indicarselo al usuario\n",
    "fallos = 0             # contador de fallos, para ir mostrando el dibujo correspondiente\n"
   ]
  },
  {
   "cell_type": "code",
   "execution_count": null,
   "metadata": {},
   "outputs": [],
   "source": [
    "while True:\n",
    "    \n",
    "    os.system(\"cls\")\n",
    "    \n",
    "    print(\"Adivina adivinanza\")\n",
    "    \n",
    "    if fallos == 0:\n",
    "        print(fallo_0)\n",
    "    elif fallos == 1:\n",
    "        print(fallo_1)\n",
    "    elif fallos == 2:\n",
    "        print(fall0_2)\n",
    "    elif fallos == 3:\n",
    "        print(fallo_3)\n",
    "    elif fallos == 4:\n",
    "        print(fallo_4)\n",
    "    elif fallos == 5:\n",
    "        print(fallo_5)\n",
    "    else:\n",
    "        print(fallo_6)\n",
    "    \n",
    "    print(\"respuesta correcta\")"
   ]
  },
  {
   "cell_type": "code",
   "execution_count": 15,
   "metadata": {},
   "outputs": [
    {
     "name": "stdout",
     "output_type": "stream",
     "text": [
      "        _______________________________\n",
      "\n",
      "\n"
     ]
    }
   ],
   "source": [
    "result = \"\"\n",
    "\n",
    "for letter in names:\n",
    "    if letter in correct_letters:\n",
    "        result += letter\n",
    "    else:\n",
    "        result += \"_\"\n",
    "        \n",
    "print(\"        {}\".format(result))\n",
    "\n",
    "print()\n",
    "print()"
   ]
  },
  {
   "cell_type": "code",
   "execution_count": null,
   "metadata": {},
   "outputs": [],
   "source": []
  },
  {
   "cell_type": "code",
   "execution_count": null,
   "metadata": {},
   "outputs": [],
   "source": []
  },
  {
   "cell_type": "code",
   "execution_count": null,
   "metadata": {},
   "outputs": [],
   "source": []
  },
  {
   "cell_type": "code",
   "execution_count": null,
   "metadata": {},
   "outputs": [],
   "source": []
  },
  {
   "cell_type": "code",
   "execution_count": null,
   "metadata": {},
   "outputs": [],
   "source": []
  },
  {
   "cell_type": "code",
   "execution_count": null,
   "metadata": {},
   "outputs": [],
   "source": []
  },
  {
   "cell_type": "code",
   "execution_count": null,
   "metadata": {},
   "outputs": [],
   "source": []
  }
 ],
 "metadata": {
  "kernelspec": {
   "display_name": "Python 3",
   "language": "python",
   "name": "python3"
  }
 },
 "nbformat": 4,
 "nbformat_minor": 4
}
